{
 "cells": [
  {
   "cell_type": "code",
   "execution_count": 1,
   "metadata": {},
   "outputs": [],
   "source": [
    "#Import Dependencies\n",
    "from flask import Flask, render_template, request, redirect, jsonify, url_for\n",
    "from sqlalchemy import create_engine\n",
    "from sqlalchemy.orm import sessionmaker\n",
    "from database_setup import Base, Catagory, StoreItem\n",
    "import numpy as np"
   ]
  },
  {
   "cell_type": "code",
   "execution_count": 2,
   "metadata": {},
   "outputs": [],
   "source": [
    "app = Flask(__name__)"
   ]
  },
  {
   "cell_type": "code",
   "execution_count": 3,
   "metadata": {},
   "outputs": [],
   "source": [
    "engine = create_engine('sqlite:///storeitemsinventory.db')"
   ]
  },
  {
   "cell_type": "code",
   "execution_count": 4,
   "metadata": {},
   "outputs": [],
   "source": [
    "Base.metadata.bind = engine"
   ]
  },
  {
   "cell_type": "code",
   "execution_count": 5,
   "metadata": {},
   "outputs": [],
   "source": [
    "#Create a Session\n",
    "DBSession = sessionmaker(bind=engine)\n",
    "session = DBSession()"
   ]
  },
  {
   "cell_type": "code",
   "execution_count": 6,
   "metadata": {},
   "outputs": [],
   "source": [
    "def catagoriesJSON():\n",
    "\tcatagories = session.query(Catagory).all()\n",
    "\treturn jsonify(catagories=[c.serialize for c in catagories])"
   ]
  },
  {
   "cell_type": "code",
   "execution_count": 7,
   "metadata": {},
   "outputs": [
    {
     "name": "stdout",
     "output_type": "stream",
     "text": [
      "{'_sa_instance_state': <sqlalchemy.orm.state.InstanceState object at 0x109dc55f8>, 'name': 'Books', 'id': 1}\n",
      "{'_sa_instance_state': <sqlalchemy.orm.state.InstanceState object at 0x109dc56a0>, 'name': 'Music', 'id': 2}\n",
      "{'_sa_instance_state': <sqlalchemy.orm.state.InstanceState object at 0x109dc5550>, 'name': 'Books', 'id': 3}\n",
      "{'_sa_instance_state': <sqlalchemy.orm.state.InstanceState object at 0x109dc5f98>, 'name': 'Music', 'id': 4}\n",
      "{'_sa_instance_state': <sqlalchemy.orm.state.InstanceState object at 0x109dee048>, 'name': 'Movies', 'id': 5}\n",
      "{'_sa_instance_state': <sqlalchemy.orm.state.InstanceState object at 0x109dee0b8>, 'name': 'Books', 'id': 6}\n",
      "{'_sa_instance_state': <sqlalchemy.orm.state.InstanceState object at 0x109dee128>, 'name': 'Music', 'id': 7}\n",
      "{'_sa_instance_state': <sqlalchemy.orm.state.InstanceState object at 0x109dee198>, 'name': 'Movies', 'id': 8}\n"
     ]
    }
   ],
   "source": [
    "for u in session.query(Catagory).all():\n",
    "    print( u.__dict__)"
   ]
  },
  {
   "cell_type": "code",
   "execution_count": 8,
   "metadata": {},
   "outputs": [
    {
     "name": "stdout",
     "output_type": "stream",
     "text": [
      "{'_sa_instance_state': <sqlalchemy.orm.state.InstanceState object at 0x109df7470>, 'catagory_id': 1, 'price': '$25.00', 'author': 'Eric Matthes', 'id': 1, 'description': 'A hands-on, project-based introduction to programming.', 'genre': 'Computer Programming', 'name': 'Python Crash Course'}\n",
      "{'_sa_instance_state': <sqlalchemy.orm.state.InstanceState object at 0x109df74e0>, 'catagory_id': 1, 'price': '$25.00', 'author': 'Al Sweigart', 'id': 2, 'description': 'A practical guide to programming for total beginners.', 'genre': 'Compute Programming', 'name': 'Automate the Boring Stuff with Python'}\n",
      "{'_sa_instance_state': <sqlalchemy.orm.state.InstanceState object at 0x109df7550>, 'catagory_id': 1, 'price': '$15.00', 'author': 'Miguel de Cervantes', 'id': 3, 'description': 'Alonso Quixano, a retired country gentleman in his fifties, \\n             lives in an unnamed section of La Mancha with his niece and a housekeeper. He has become \\n             obsessed with books of chivalry, and believes their every word to be true, despite the fact\\n             that many of the events in them are clearly impossible. Quixano eventually appears to other \\n             people to have lost his mind from little sleep and food and because of so much reading.', 'genre': 'Classic Literature', 'name': 'Don Quixote'}\n",
      "{'_sa_instance_state': <sqlalchemy.orm.state.InstanceState object at 0x109df75c0>, 'catagory_id': 1, 'price': '$15.00', 'author': 'Stephen Hawking', 'id': 4, 'description': 'This essential book on cosmology explains complex concepts such as space, time, and\\n             black holes to the layman from a scientific point of view. Published in 1988, this is one of the best\\n             science books of all time. It has since sold ten million copies and been revised to represent advances\\n             in technology made in the past two decades. Through it, readers will be able to understand and appreciate\\n             the complexity of the universe.', 'genre': 'Science', 'name': 'A Brief History of Time'}\n",
      "{'_sa_instance_state': <sqlalchemy.orm.state.InstanceState object at 0x109df7668>, 'catagory_id': 1, 'price': '$10.00', 'author': 'Joseph Heller', 'id': 5, 'description': \"Catch-22 is a satirical, historical novel by the American author Joseph Heller, first\\n             published in 1961. The novel, set during the later stages of World War II from 1943 onwards, is \\n             frequently cited as one of the great literary works of the twentieth century. It has a distinctive \\n             non-chronological style where events are described from different characters' points of view and out \\n             of sequence so that the time line develops along with the plot.\", 'genre': 'Classic Fiction', 'name': 'Catch-22'}\n",
      "{'_sa_instance_state': <sqlalchemy.orm.state.InstanceState object at 0x109df7710>, 'catagory_id': 2, 'price': '10.00', 'author': 'The Beatles', 'id': 6, 'description': 'Year Released: 1967', 'genre': 'Rock', 'name': 'Sgt. Peppers Lonely Hearts Club Band'}\n",
      "{'_sa_instance_state': <sqlalchemy.orm.state.InstanceState object at 0x109df77b8>, 'catagory_id': 2, 'price': '$10.00', 'author': 'Prince', 'id': 7, 'description': 'Year Released: 1982', 'genre': 'R&B/Soul', 'name': '1999'}\n",
      "{'_sa_instance_state': <sqlalchemy.orm.state.InstanceState object at 0x109df7860>, 'catagory_id': 2, 'price': '$10.00', 'author': 'Adele', 'id': 8, 'description': 'Year Release: 2011', 'genre': 'Pop', 'name': '21'}\n",
      "{'_sa_instance_state': <sqlalchemy.orm.state.InstanceState object at 0x109df7908>, 'catagory_id': 2, 'price': '10.00', 'author': 'Stevie Wonder', 'id': 9, 'description': 'Year Released: 1976', 'genre': 'R&B/Soul', 'name': 'Songs in the Key of Life'}\n",
      "{'_sa_instance_state': <sqlalchemy.orm.state.InstanceState object at 0x109df79b0>, 'catagory_id': None, 'price': '$10.00', 'author': 'Gustave Holst', 'id': 10, 'description': 'Year Premiere: 1918', 'genre': 'classical', 'name': 'The Planets'}\n",
      "{'_sa_instance_state': <sqlalchemy.orm.state.InstanceState object at 0x109df7a58>, 'catagory_id': 3, 'price': '$25.00', 'author': 'Eric Matthes', 'id': 11, 'description': 'A hands-on, project-based introduction to programming.', 'genre': 'Computer Programming', 'name': 'Python Crash Course'}\n",
      "{'_sa_instance_state': <sqlalchemy.orm.state.InstanceState object at 0x109df7b00>, 'catagory_id': 3, 'price': '$25.00', 'author': 'Al Sweigart', 'id': 12, 'description': 'A practical guide to programming for total beginners.', 'genre': 'Compute Programming', 'name': 'Automate the Boring Stuff with Python'}\n",
      "{'_sa_instance_state': <sqlalchemy.orm.state.InstanceState object at 0x109df7ba8>, 'catagory_id': 3, 'price': '$15.00', 'author': 'Miguel de Cervantes', 'id': 13, 'description': 'Alonso Quixano, a retired country gentleman in his fifties, \\n             lives in an unnamed section of La Mancha with his niece and a housekeeper. He has become \\n             obsessed with books of chivalry, and believes their every word to be true, despite the fact\\n             that many of the events in them are clearly impossible. Quixano eventually appears to other \\n             people to have lost his mind from little sleep and food and because of so much reading.', 'genre': 'Classic Literature', 'name': 'Don Quixote'}\n",
      "{'_sa_instance_state': <sqlalchemy.orm.state.InstanceState object at 0x109df7c50>, 'catagory_id': 3, 'price': '$15.00', 'author': 'Stephen Hawking', 'id': 14, 'description': 'This essential book on cosmology explains complex concepts such as space, time, and\\n             black holes to the layman from a scientific point of view. Published in 1988, this is one of the best\\n             science books of all time. It has since sold ten million copies and been revised to represent advances\\n             in technology made in the past two decades. Through it, readers will be able to understand and appreciate\\n             the complexity of the universe.', 'genre': 'Science', 'name': 'A Brief History of Time'}\n",
      "{'_sa_instance_state': <sqlalchemy.orm.state.InstanceState object at 0x109df7cf8>, 'catagory_id': 3, 'price': '$10.00', 'author': 'Joseph Heller', 'id': 15, 'description': \"Catch-22 is a satirical, historical novel by the American author Joseph Heller, first\\n             published in 1961. The novel, set during the later stages of World War II from 1943 onwards, is \\n             frequently cited as one of the great literary works of the twentieth century. It has a distinctive \\n             non-chronological style where events are described from different characters' points of view and out \\n             of sequence so that the time line develops along with the plot.\", 'genre': 'Classic Fiction', 'name': 'Catch-22'}\n",
      "{'_sa_instance_state': <sqlalchemy.orm.state.InstanceState object at 0x109df7da0>, 'catagory_id': 4, 'price': '10.00', 'author': 'The Beatles', 'id': 16, 'description': 'Year Released: 1967', 'genre': 'Rock', 'name': 'Sgt. Peppers Lonely Hearts Club Band'}\n",
      "{'_sa_instance_state': <sqlalchemy.orm.state.InstanceState object at 0x109df7e48>, 'catagory_id': 4, 'price': '$10.00', 'author': 'Prince', 'id': 17, 'description': 'Year Released: 1982', 'genre': 'R&B/Soul', 'name': '1999'}\n",
      "{'_sa_instance_state': <sqlalchemy.orm.state.InstanceState object at 0x109df7ef0>, 'catagory_id': 4, 'price': '$10.00', 'author': 'Adele', 'id': 18, 'description': 'Year Release: 2011', 'genre': 'Pop', 'name': '21'}\n",
      "{'_sa_instance_state': <sqlalchemy.orm.state.InstanceState object at 0x109df7f98>, 'catagory_id': 4, 'price': '10.00', 'author': 'Stevie Wonder', 'id': 19, 'description': 'Year Released: 1976', 'genre': 'R&B/Soul', 'name': 'Songs in the Key of Life'}\n",
      "{'_sa_instance_state': <sqlalchemy.orm.state.InstanceState object at 0x109dfb080>, 'catagory_id': None, 'price': '$10.00', 'author': 'Gustave Holst', 'id': 20, 'description': 'Year Premiere: 1918', 'genre': 'classical', 'name': 'The Planets'}\n",
      "{'_sa_instance_state': <sqlalchemy.orm.state.InstanceState object at 0x109dfb128>, 'catagory_id': 6, 'price': '$25.00', 'author': 'Eric Matthes', 'id': 21, 'description': 'A hands-on, project-based introduction to programming.', 'genre': 'Computer Programming', 'name': 'Python Crash Course'}\n",
      "{'_sa_instance_state': <sqlalchemy.orm.state.InstanceState object at 0x109dfb1d0>, 'catagory_id': 6, 'price': '$25.00', 'author': 'Al Sweigart', 'id': 22, 'description': 'A practical guide to programming for total beginners.', 'genre': 'Compute Programming', 'name': 'Automate the Boring Stuff with Python'}\n",
      "{'_sa_instance_state': <sqlalchemy.orm.state.InstanceState object at 0x109dfb278>, 'catagory_id': 6, 'price': '$15.00', 'author': 'Miguel de Cervantes', 'id': 23, 'description': 'Alonso Quixano, a retired country gentleman in his fifties, \\n             lives in an unnamed section of La Mancha with his niece and a housekeeper. He has become \\n             obsessed with books of chivalry, and believes their every word to be true, despite the fact\\n             that many of the events in them are clearly impossible. Quixano eventually appears to other \\n             people to have lost his mind from little sleep and food and because of so much reading.', 'genre': 'Classic Literature', 'name': 'Don Quixote'}\n",
      "{'_sa_instance_state': <sqlalchemy.orm.state.InstanceState object at 0x109dfb320>, 'catagory_id': 6, 'price': '$15.00', 'author': 'Stephen Hawking', 'id': 24, 'description': 'This essential book on cosmology explains complex concepts such as space, time, and\\n             black holes to the layman from a scientific point of view. Published in 1988, this is one of the best\\n             science books of all time. It has since sold ten million copies and been revised to represent advances\\n             in technology made in the past two decades. Through it, readers will be able to understand and appreciate\\n             the complexity of the universe.', 'genre': 'Science', 'name': 'A Brief History of Time'}\n",
      "{'_sa_instance_state': <sqlalchemy.orm.state.InstanceState object at 0x109dfb3c8>, 'catagory_id': 6, 'price': '$10.00', 'author': 'Joseph Heller', 'id': 25, 'description': \"Catch-22 is a satirical, historical novel by the American author Joseph Heller, first\\n             published in 1961. The novel, set during the later stages of World War II from 1943 onwards, is \\n             frequently cited as one of the great literary works of the twentieth century. It has a distinctive \\n             non-chronological style where events are described from different characters' points of view and out \\n             of sequence so that the time line develops along with the plot.\", 'genre': 'Classic Fiction', 'name': 'Catch-22'}\n",
      "{'_sa_instance_state': <sqlalchemy.orm.state.InstanceState object at 0x109dfb470>, 'catagory_id': 7, 'price': '10.00', 'author': 'The Beatles', 'id': 26, 'description': 'Year Released: 1967', 'genre': 'Rock', 'name': 'Sgt. Peppers Lonely Hearts Club Band'}\n",
      "{'_sa_instance_state': <sqlalchemy.orm.state.InstanceState object at 0x109dfb518>, 'catagory_id': 7, 'price': '$10.00', 'author': 'Prince', 'id': 27, 'description': 'Year Released: 1982', 'genre': 'R&B/Soul', 'name': '1999'}\n",
      "{'_sa_instance_state': <sqlalchemy.orm.state.InstanceState object at 0x109dfb5c0>, 'catagory_id': 7, 'price': '$10.00', 'author': 'Adele', 'id': 28, 'description': 'Year Release: 2011', 'genre': 'Pop', 'name': '21'}\n",
      "{'_sa_instance_state': <sqlalchemy.orm.state.InstanceState object at 0x109dfb668>, 'catagory_id': 7, 'price': '10.00', 'author': 'Stevie Wonder', 'id': 29, 'description': 'Year Released: 1976', 'genre': 'R&B/Soul', 'name': 'Songs in the Key of Life'}\n",
      "{'_sa_instance_state': <sqlalchemy.orm.state.InstanceState object at 0x109dfb710>, 'catagory_id': None, 'price': '$10.00', 'author': 'Gustave Holst', 'id': 30, 'description': 'Year Premiere: 1918', 'genre': 'classical', 'name': 'The Planets'}\n",
      "{'_sa_instance_state': <sqlalchemy.orm.state.InstanceState object at 0x109dfb7b8>, 'catagory_id': 8, 'price': '$10.00', 'author': 'Orson Wells', 'id': 31, 'description': \"Stars: Orson Welles; Joseph Cotten; Everett Sloane, Agnes Moorehead\\n              Synopsis: Welles' first feature - the tragic story of newspaper tycoon Charles Foster Kane (Welles),\\n              loosely modeled after the life of William Randolph Hearst, founder of the Hearst publishing empire,\\n              and the publisher's ultimately empty rise to power. Acclaimed for its innovative narrative structure, \\n              deep focus cinematography, soundtrack, literate screenplay, and nuanced portrayal of the central \\n              character.\", 'genre': 'Drama', 'name': 'Citizen Kane (1941)'}\n",
      "{'_sa_instance_state': <sqlalchemy.orm.state.InstanceState object at 0x109dfb860>, 'catagory_id': 8, 'price': '$10.00', 'author': 'Joseph L. Mankiewicz', 'id': 32, 'description': \"Stars: Bette Davis; Anne Baxter; George Sanders; Celeste Holm; Thelma Ritter\\n              Synopsis: Classic story of backstage betrayal, with Davis as the aging star Margo Channing and\\n              Baxter as the young schemer Eve Harrington. Fasten your seat belts for a bumpy ride in this story \\n              of an aging actress who is undone by a young, ambitious fan. Sophisticated performances by Davis, \\n              Sanders and Baxter shine in this scathing look at the world of the theater. Academy Award winner \\n              for Best Picture, it is memorable for Sanders' role as the cynical critic and Marilyn Monroe as \\n              his scene-stealing consort.\", 'genre': 'Drama', 'name': 'All about Eve (1950'}\n",
      "{'_sa_instance_state': <sqlalchemy.orm.state.InstanceState object at 0x109dfb908>, 'catagory_id': 8, 'price': '$10.00', 'author': 'Stanley Kubrick', 'id': 33, 'description': 'Stars: Peter Sellers; \\n              George C. Scott; Sterling Hayden; Slim Pickens Synopsis: Kubrick\\'s black comedy of US nuclear \\n              bomb launch on Russia, focuses on an American president, played by Sellers in one of his three \\n              roles, who must contend with a Soviet nuclear attack on the United States and his own maniacal \\n              staff, including Scott\\'s memorable General Turgidson. Features a memorable triad of performances \\n              by Sellers (as US president, British officer, and deranged scientist) and Pickens\\'s wild ride on \\n              a missile. \"Gentlemen, you can\\'t fight in here! This is the War Room!', 'genre': 'Comedy', 'name': 'Dr. Strangelove, Or: How I Learned To Stop Worrying And Love The Bomb (1964)'}\n",
      "{'_sa_instance_state': <sqlalchemy.orm.state.InstanceState object at 0x109dfb9b0>, 'catagory_id': 8, 'price': '$7.50', 'author': 'James Algar, Ben Sharpsteen, Walt Disney and others', 'id': 34, 'description': 'Stars: Deems Taylor (narrator); Leopold Stokowski\\n              (himself) and the Philadelphia Orchestra Synopsis: Disney\\'s groundbreaking union and mixture of\\n              classical music and animated images is a visual feast for young and old. Presented in a dazzling, \\n              eight-part imaginative journey. Musical selections include Dukas\\' \"The Sorcerer\\'s Apprentice,\" \\n              with Mickey Mouse as the apprentice in one of the film\\'s most indelible images, and Stravinsky\\'s \\n              \"Rite of Spring.', 'genre': 'Animation', 'name': 'Fantasia (1940)'}\n",
      "{'_sa_instance_state': <sqlalchemy.orm.state.InstanceState object at 0x109dfba58>, 'catagory_id': 8, 'price': '$10.00', 'author': 'George Lucas', 'id': 35, 'description': 'Stars: Mark Hamill; Harrison Ford; Carrie Fisher; Alec Guinness \\n              Synopsis: Spectacular space adventure combined a simple story of good vs. evil with stunning visual \\n              effects and endearing robotic characters to revolutionize the science fiction and action genres and \\n              make a star of Harrison Ford. A landmark science fiction fantasy about a young man,\\n              Luke Skywalker (Hamill), who finds his calling as a Jedi warrior and with the help of \"droids\" and \\n              an outlaw named Han Solo (Ford), then embarks on a mission to rescue a princess (Fisher) and save the\\n              galaxy from the Dark Side. \"May the force be with you.\" Two sequels and prequels followed.', 'genre': 'Science Fiction', 'name': 'Star Wars (1977)'}\n"
     ]
    }
   ],
   "source": [
    "for e in session.query(StoreItem).all():\n",
    "    print(e.__dict__)"
   ]
  },
  {
   "cell_type": "code",
   "execution_count": 9,
   "metadata": {},
   "outputs": [],
   "source": [
    "@app.route('/catagory/<int:catagory_id>/items/JSON')\n",
    "def showCatagoryItemsJSON():\n",
    "\tcatagory = session.query(StoreItem).filter_by(id=catagory_id).one()\n",
    "\titems = session.query(StoreItem).filter_by(catagory_id=catagory_id).all()\n",
    "\treturn jsonify(StoreItems=[i.serialize for i in items])"
   ]
  },
  {
   "cell_type": "code",
   "execution_count": 11,
   "metadata": {},
   "outputs": [
    {
     "ename": "NameError",
     "evalue": "name 'catagory_id' is not defined",
     "output_type": "error",
     "traceback": [
      "\u001b[0;31m---------------------------------------------------------------------------\u001b[0m",
      "\u001b[0;31mNameError\u001b[0m                                 Traceback (most recent call last)",
      "\u001b[0;32m<ipython-input-11-fc581bb587a5>\u001b[0m in \u001b[0;36m<module>\u001b[0;34m()\u001b[0m\n\u001b[0;32m----> 1\u001b[0;31m \u001b[0mshowCatagoryItemsJSON\u001b[0m\u001b[0;34m(\u001b[0m\u001b[0;34m)\u001b[0m\u001b[0;34m\u001b[0m\u001b[0m\n\u001b[0m\u001b[1;32m      2\u001b[0m \u001b[0mshowCatagoryItemsJSON\u001b[0m\u001b[0;34m\u001b[0m\u001b[0m\n",
      "\u001b[0;32m<ipython-input-9-bd958f26f60a>\u001b[0m in \u001b[0;36mshowCatagoryItemsJSON\u001b[0;34m()\u001b[0m\n\u001b[1;32m      1\u001b[0m \u001b[0;34m@\u001b[0m\u001b[0mapp\u001b[0m\u001b[0;34m.\u001b[0m\u001b[0mroute\u001b[0m\u001b[0;34m(\u001b[0m\u001b[0;34m'/catagory/<int:catagory_id>/items/JSON'\u001b[0m\u001b[0;34m)\u001b[0m\u001b[0;34m\u001b[0m\u001b[0m\n\u001b[1;32m      2\u001b[0m \u001b[0;32mdef\u001b[0m \u001b[0mshowCatagoryItemsJSON\u001b[0m\u001b[0;34m(\u001b[0m\u001b[0;34m)\u001b[0m\u001b[0;34m:\u001b[0m\u001b[0;34m\u001b[0m\u001b[0m\n\u001b[0;32m----> 3\u001b[0;31m         \u001b[0mcatagory\u001b[0m \u001b[0;34m=\u001b[0m \u001b[0msession\u001b[0m\u001b[0;34m.\u001b[0m\u001b[0mquery\u001b[0m\u001b[0;34m(\u001b[0m\u001b[0mStoreItem\u001b[0m\u001b[0;34m)\u001b[0m\u001b[0;34m.\u001b[0m\u001b[0mfilter_by\u001b[0m\u001b[0;34m(\u001b[0m\u001b[0mid\u001b[0m\u001b[0;34m=\u001b[0m\u001b[0mcatagory_id\u001b[0m\u001b[0;34m)\u001b[0m\u001b[0;34m.\u001b[0m\u001b[0mone\u001b[0m\u001b[0;34m(\u001b[0m\u001b[0;34m)\u001b[0m\u001b[0;34m\u001b[0m\u001b[0m\n\u001b[0m\u001b[1;32m      4\u001b[0m         \u001b[0mitems\u001b[0m \u001b[0;34m=\u001b[0m \u001b[0msession\u001b[0m\u001b[0;34m.\u001b[0m\u001b[0mquery\u001b[0m\u001b[0;34m(\u001b[0m\u001b[0mStoreItem\u001b[0m\u001b[0;34m)\u001b[0m\u001b[0;34m.\u001b[0m\u001b[0mfilter_by\u001b[0m\u001b[0;34m(\u001b[0m\u001b[0mcatagory_id\u001b[0m\u001b[0;34m=\u001b[0m\u001b[0mcatagory_id\u001b[0m\u001b[0;34m)\u001b[0m\u001b[0;34m.\u001b[0m\u001b[0mall\u001b[0m\u001b[0;34m(\u001b[0m\u001b[0;34m)\u001b[0m\u001b[0;34m\u001b[0m\u001b[0m\n\u001b[1;32m      5\u001b[0m         \u001b[0;32mreturn\u001b[0m \u001b[0mjsonify\u001b[0m\u001b[0;34m(\u001b[0m\u001b[0mStoreItems\u001b[0m\u001b[0;34m=\u001b[0m\u001b[0;34m[\u001b[0m\u001b[0mi\u001b[0m\u001b[0;34m.\u001b[0m\u001b[0mserialize\u001b[0m \u001b[0;32mfor\u001b[0m \u001b[0mi\u001b[0m \u001b[0;32min\u001b[0m \u001b[0mitems\u001b[0m\u001b[0;34m]\u001b[0m\u001b[0;34m)\u001b[0m\u001b[0;34m\u001b[0m\u001b[0m\n",
      "\u001b[0;31mNameError\u001b[0m: name 'catagory_id' is not defined"
     ]
    }
   ],
   "source": []
  },
  {
   "cell_type": "code",
   "execution_count": null,
   "metadata": {},
   "outputs": [],
   "source": []
  }
 ],
 "metadata": {
  "kernelspec": {
   "display_name": "Python 3",
   "language": "python",
   "name": "python3"
  },
  "language_info": {
   "codemirror_mode": {
    "name": "ipython",
    "version": 3
   },
   "file_extension": ".py",
   "mimetype": "text/x-python",
   "name": "python",
   "nbconvert_exporter": "python",
   "pygments_lexer": "ipython3",
   "version": "3.6.4"
  }
 },
 "nbformat": 4,
 "nbformat_minor": 2
}
